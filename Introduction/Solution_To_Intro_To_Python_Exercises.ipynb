{
  "nbformat": 4,
  "nbformat_minor": 0,
  "metadata": {
    "colab": {
      "name": "Solution To Intro To Python Exercises.ipynb",
      "provenance": []
    },
    "kernelspec": {
      "name": "python3",
      "display_name": "Python 3"
    },
    "language_info": {
      "name": "python"
    }
  },
  "cells": [
    {
      "cell_type": "markdown",
      "source": [
        "Answer to Hello World Question\n",
        "Python is a dynamically typed language meaning that any variable can contain any data type. Reassigning \"my_name\" with a number will change the type of \"my_name\" from a string to an int or a float depending whether an integer or a decimal number is used."
      ],
      "metadata": {
        "id": "sZoJgwxipPoB"
      }
    },
    {
      "cell_type": "markdown",
      "source": [
        "Loop Questions\n",
        "To rewrite the loop condition we can do the following:"
      ],
      "metadata": {
        "id": "yfTAiWssqG0h"
      }
    },
    {
      "cell_type": "code",
      "source": [
        "while i >= 1:"
      ],
      "metadata": {
        "id": "0pE84_HvqQ_F"
      },
      "execution_count": null,
      "outputs": []
    },
    {
      "cell_type": "markdown",
      "source": [
        "To make one print statement you can do the following:"
      ],
      "metadata": {
        "id": "9GPMUsfaqT3q"
      }
    },
    {
      "cell_type": "code",
      "source": [
        "i = 100\n",
        "print(f\"{i} bottles of coke on the wall, {i} bottles of coke\\ntake one down, pass it around, {i-1} bottles of coke on the wall\\n\")"
      ],
      "metadata": {
        "id": "dGlddYWQqfpH"
      },
      "execution_count": null,
      "outputs": []
    },
    {
      "cell_type": "markdown",
      "source": [
        "Using \"i - 1\" in the print statement does not change the value of \"i\" for two main reasons: first it is in a print statement. Python is processing the statement in this line so it cannot assign i a new value in this line, that will give a syntax error. Second, there is no \"=\" in that line for the first reason so there can be no variable assignment."
      ],
      "metadata": {
        "id": "dEoIeWo0q54a"
      }
    },
    {
      "cell_type": "markdown",
      "source": [
        "Final Exercise Example Solution\n",
        "There are multiple ways to solve this, here is the way I have done it (note this is not the only solution):"
      ],
      "metadata": {
        "id": "lPZIoUIMrrXB"
      }
    },
    {
      "cell_type": "code",
      "source": [
        "n = 5\n",
        "j = 0\n",
        "while j < 6:\n",
        "    i = 0\n",
        "    while i < 6:\n",
        "        if i == j == 0:\n",
        "            print(\"x\", end='  ')\n",
        "        elif j > 0 and i == 0:\n",
        "            print(j, end=\"  \")\n",
        "        elif i > 0 and j == 0:\n",
        "            print(i, end='  ')\n",
        "        elif i > 0 and j > 0:\n",
        "            if i <= j:\n",
        "                print( i * j, end='  ')\n",
        "        i += 1\n",
        "    j += 1\n",
        "    print('\\n')"
      ],
      "metadata": {
        "id": "mKb654etsBdm"
      },
      "execution_count": null,
      "outputs": []
    }
  ]
}