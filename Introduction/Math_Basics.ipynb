{
  "nbformat": 4,
  "nbformat_minor": 0,
  "metadata": {
    "colab": {
      "name": "Math Basics.ipynb",
      "provenance": []
    },
    "kernelspec": {
      "name": "python3",
      "display_name": "Python 3"
    },
    "language_info": {
      "name": "python"
    }
  },
  "cells": [
    {
      "cell_type": "markdown",
      "source": [
        "Let us begin with a very important concept: A function. By definition, a function will take an input value and assign it to only one (this is extremely important so I will repeat) only one output value. As an example, let's take the function y = f(x) = x (we use the notation f(x) to say that y is a function of x). Taking a few example values notice that if x = 0, y = 0, if x = 1, y = 1, if x = 2, y = 2, if x = -1, y = -1 and so on. We can also verify this with a graph ([View the graph here](https://www.desmos.com/calculator)). Notice how this graph helps show that this is a function because each x value is associated with a single y value. Now let's complicate this a little bit by multiplying x with itself. Now we'll say f(x) = x^2, use [this graph](https://www.desmos.com/calculator) to verify for yourself that this is a function. Notice how the value of y is always positive. Next try f(x) = x^3, see how it gets bigger at smaller positive values of x? This is called polynomial growth and understanding the relationship between how fast a function gets bigger and the power of x is crucial to help understand how to edit the reward function. \n"
      ],
      "metadata": {
        "id": "hFzdDSm21K5E"
      }
    },
    {
      "cell_type": "markdown",
      "source": [
        "Now, we turn to trigonometry. In essence, the trigonometric functions, sine, cosine, and tangent are ratios between different sides of a right angle triangle. As a reminder, a right angle triangle is a triangle that has one 90 degree angle in it. The definitions of the trig functions are as follows:\n",
        "\n",
        "sin(x) = opposite / hypotenuse\n",
        "cos(x) = adjacent / hypotenuse\n",
        "tan(x) = opposite / hypotenuse (or as sin(x) / cos(x))\n",
        "\n",
        "The input x is the angle between two of the vertices of the triangle. Before we continue, we must use radians as our angle measurement unit instead of degrees. Remember how the area of a circle is pi*r^2 and the circumference is 2*pi*r? well we can make a circle with radius 1 so that the circumference is 2*pi and half of the circumference is pi. We also know that the entire circle is equivalent to 360 degrees, that means we can say pi radians = 180 degrees to easily swap between the two.\n",
        "\n",
        "A few common angles to know along with their sine, cosine, and tangent values (from 90 to 0 degrees) are:\n",
        "\n",
        "sin(pi/2) = sin(90 degrees) = 1\n",
        "\n",
        "cos(pi/2) = cos(90 degrees) = 0\n",
        "\n",
        "tan(pi/2) = tan(90 degrees) = undefined\n",
        "\n",
        "sin(pi/3) = sin(60 degrees) = square root of 3 / 2\n",
        "\n",
        "cos(pi/3) = cos(60 degrees) = 1 / 2\n",
        "\n",
        "tan(pi/3) = tan(60 degrees) = square root of 3\n",
        "\n",
        "sin(pi/4) = sin(45 degrees) = 1 / square root of 2\n",
        "\n",
        "cos(pi/4) = cos(45 degrees) = 1 / square root of 2\n",
        "\n",
        "tan(pi/4) = tan(45 degrees) = 1\n",
        "\n",
        "sin(pi/6) = sin(30 degrees) = 1 / 2\n",
        "\n",
        "cos(pi/6) = cos(30 degrees) = square root of 3 / 2\n",
        "\n",
        "tan(pi/6) = tan(30 degrees) = 1 / square root of 3\n",
        "\n",
        "sin(0) = sin(0 degrees) = 0\n",
        "\n",
        "cos(0) = cos(0 degrees) = 1\n",
        "\n",
        "tan(0) = tan(0 degrees) = 0\n",
        "\n",
        "\n",
        "\n"
      ],
      "metadata": {
        "id": "2cz_fHlGgw9I"
      }
    }
  ]
}