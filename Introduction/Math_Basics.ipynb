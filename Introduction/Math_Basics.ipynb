{
  "nbformat": 4,
  "nbformat_minor": 0,
  "metadata": {
    "colab": {
      "name": "Math Basics.ipynb",
      "provenance": []
    },
    "kernelspec": {
      "name": "python3",
      "display_name": "Python 3"
    },
    "language_info": {
      "name": "python"
    }
  },
  "cells": [
    {
      "cell_type": "markdown",
      "source": [
        "Let us begin with a very important concept: A function. By definition, a function will take an input value and assign it to only one (this is extremely important so I will repeat) only one output value. As an example, let's take the function y = f(x) = x (we use the notation f(x) to say that y is a function of x). Taking a few example values notice that if x = 0, y = 0, if x = 1, y = 1, if x = 2, y = 2, if x = -1, y = -1 and so on. We can also verify this with a graph ([View the graph here](https://www.desmos.com/calculator)). Notice how this graph helps show that this is a function because each x value is associated with a single y value. Now let's complicate this a little bit by multiplying x with itself. Now we'll say f(x) = x^2, use [this graph](https://www.desmos.com/calculator) to verify for yourself that this is a function. Notice how the value of y is always positive. Next try f(x) = x^3, see how it gets bigger at smaller positive values of x? This is called polynomial growth and understanding the relationship between how fast a function gets bigger and the power of x is crucial to help understand how to edit the reward function. \n"
      ],
      "metadata": {
        "id": "hFzdDSm21K5E"
      }
    },
    {
      "cell_type": "markdown",
      "source": [
        "Now, we turn to trigonometry. In essence, the trigonometric functions, sine, cosine, and tangent are ratios between different sides of a right angle triangle. As a reminder, a right angle triangle is a triangle that has one 90 degree angle in it. The definitions of the trig functions are as follows:\n",
        "\n",
        "sin(x) = opposite / hypotenuse\n",
        "cos(x) = adjacent / hypotenuse\n",
        "tan(x) = opposite / hypotenuse (or as sin(x) / cos(x))\n",
        "\n",
        "The input x is the angle between two of the vertices of the triangle. Before we continue, we must use radians as our angle measurement unit instead of degrees. Remember how the area of a circle is pi*r^2 and the circumference is 2*pi*r? well we can make a circle with radius 1 so that the circumference is 2*pi and half of the circumference is pi. We also know that the entire circle is equivalent to 360 degrees, that means we can say pi radians = 180 degrees to easily swap between the two.\n",
        "\n",
        "A few common angles to know along with their sine, cosine, and tangent values (from 90 to 0 degrees) are:\n",
        "\n",
        "sin(pi/2) = sin(90 degrees) = 1\n",
        "\n",
        "cos(pi/2) = cos(90 degrees) = 0\n",
        "\n",
        "tan(pi/2) = tan(90 degrees) = undefined\n",
        "\n",
        "sin(pi/3) = sin(60 degrees) = square root of 3 / 2\n",
        "\n",
        "cos(pi/3) = cos(60 degrees) = 1 / 2\n",
        "\n",
        "tan(pi/3) = tan(60 degrees) = square root of 3\n",
        "\n",
        "sin(pi/4) = sin(45 degrees) = 1 / square root of 2\n",
        "\n",
        "cos(pi/4) = cos(45 degrees) = 1 / square root of 2\n",
        "\n",
        "tan(pi/4) = tan(45 degrees) = 1\n",
        "\n",
        "sin(pi/6) = sin(30 degrees) = 1 / 2\n",
        "\n",
        "cos(pi/6) = cos(30 degrees) = square root of 3 / 2\n",
        "\n",
        "tan(pi/6) = tan(30 degrees) = 1 / square root of 3\n",
        "\n",
        "sin(0) = sin(0 degrees) = 0\n",
        "\n",
        "cos(0) = cos(0 degrees) = 1\n",
        "\n",
        "tan(0) = tan(0 degrees) = 0\n",
        "\n",
        "As for why we are even doing this, this is because trigonometry is extremely useful for calculating vector components. [See this link for an interactive demo of 2D vectors](https://www.desmos.com/calculator/nypimbystu). Notice how we can actually break all the possible vectors in this demo into two components: vertical and horizontal. To get these components we actually need to do a bit of trig. We can see that if we draw a horizontal line from the starting point to under the end point then draw a vertical line up to the line we actually make a right angle triangle! This means we can in fact use the trig knowledge from earlier to help us out. We can use Pythagoras' formula (a^2 + b^2 = c^2, c must be the hypotenuse opposite the right angle, a and b can be either of the other sides) and our trig definitions from above to solve for any vertical or horizontal component we want. Now we can actually do math with the vectors and add them together for a third vector.\n",
        "\n",
        "\n",
        "\n"
      ],
      "metadata": {
        "id": "2cz_fHlGgw9I"
      }
    },
    {
      "cell_type": "markdown",
      "source": [
        "Finally, we must talk about scaling and addition or multiplication of multiple variables. Since we are dealing with functions we can combine variables in two ways: adding them or multiplying them. Adding them will keep their values independant of each other while still influcing the final value and multiplying them will allow their values to have an effect on each other. In general, if you have different inputs that need to be kept separate then adding them together is best. Otherwise it could be valid to multiply them together if you would like the inputs to have a direct effect on how much the other input effects the output. \n",
        "\n",
        "There are two main types of scaling: range or coefficient. When it comes to machine learning, both are very important and useful since it can change the weighting a certain criteria for your algorithm. coefficient scaling is when you multiply each value by a number to change it's impact. As an example, if we say 2x + y is our cost function, then we know that if we change x it will have twice the impact on the output as changing y. Range scaling is taking a certain range of inputs and mapping the function they come from to a specific range of desired outputs. This is done using the formula output = ((input - min of starting range) / (max of starting range - min of starting range) (max of end range - min of end range) ) + min of end range. "
      ],
      "metadata": {
        "id": "33y6aftE3mEp"
      }
    }
  ]
}