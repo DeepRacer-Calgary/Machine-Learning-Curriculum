{
  "nbformat": 4,
  "nbformat_minor": 0,
  "metadata": {
    "colab": {
      "name": "Trig_Practice.ipynb",
      "provenance": [],
      "authorship_tag": "ABX9TyObLoxjO00Xsr8wbvaNQeTC",
      "include_colab_link": true
    },
    "kernelspec": {
      "name": "python3",
      "display_name": "Python 3"
    },
    "language_info": {
      "name": "python"
    }
  },
  "cells": [
    {
      "cell_type": "markdown",
      "metadata": {
        "id": "view-in-github",
        "colab_type": "text"
      },
      "source": [
        "<a href=\"https://colab.research.google.com/github/DeepRacer-Calgary/Machine-Learning-Curriculum/blob/main/Trig_Practice.ipynb\" target=\"_parent\"><img src=\"https://colab.research.google.com/assets/colab-badge.svg\" alt=\"Open In Colab\"/></a>"
      ]
    },
    {
      "cell_type": "markdown",
      "source": [
        "# Trigonometry Review\n",
        "\n",
        "## There are 2 main places where trig is helpful (Feel free to add more)\n",
        "\n",
        "1. Converting between a line with slope\n",
        "2. Finding how much a vector aligns with x and y directions\n",
        "\n",
        "The first can be accomplished using tangent and inverse tangent (otherwise known as arc tangent)\n",
        "\n",
        "The other can be accomplished using sine and cosine respectively"
      ],
      "metadata": {
        "id": "c-MyukwEf8ga"
      }
    },
    {
      "cell_type": "markdown",
      "source": [
        "## Section 1: Converting between slope and angle"
      ],
      "metadata": {
        "id": "lMmnWMs7iZJ4"
      }
    },
    {
      "cell_type": "markdown",
      "source": [
        "Example 1: If a line has a slope of 30 degrees __**from the horizontal**__ find its slope."
      ],
      "metadata": {
        "id": "P1ITUuoxir_o"
      }
    },
    {
      "cell_type": "code",
      "source": [
        "# We will want to make our own diagram, we need y / x to find the slope\n",
        "\n",
        "#      /|     Where r is the hypoteneuse\n",
        "#   r / | y   x is the adjacent side\n",
        "#    /  |     y is the opposite\n",
        "#   /a__|     and a is the angle we care about\n",
        "#     x       \n",
        "\n",
        "# if we want the slope, or y / x, that can also be shows as opposite / adjacent which we can find would be equal to tangent of a\n",
        "\n",
        "# Find the slope of 30 degrees from the horizontal\n",
        "\n",
        "\n"
      ],
      "metadata": {
        "id": "N2nYKmMovsyd"
      },
      "execution_count": null,
      "outputs": []
    },
    {
      "cell_type": "code",
      "source": [
        "# Find the slope of 85 degrees from the horizontal\n",
        "\n",
        "\n"
      ],
      "metadata": {
        "id": "CTFCTQHpQvzU"
      },
      "execution_count": null,
      "outputs": []
    },
    {
      "cell_type": "code",
      "source": [
        "# Find the slope of 5 and 185 degrees from the horizontal\n",
        "\n",
        "\n"
      ],
      "metadata": {
        "id": "bmMS6hNOQ1k1"
      },
      "execution_count": null,
      "outputs": []
    },
    {
      "cell_type": "code",
      "source": [
        "# Find the angle from the horizontal of a line with a slope of 1\n",
        "\n",
        "\n"
      ],
      "metadata": {
        "id": "EYp2wAYbRBEp"
      },
      "execution_count": null,
      "outputs": []
    },
    {
      "cell_type": "markdown",
      "source": [
        "## Section 2: Alignment of a vector with x and y axes"
      ],
      "metadata": {
        "id": "kWEPmaRPQ_C-"
      }
    },
    {
      "cell_type": "markdown",
      "source": [
        "Example 2: A line has an angle of 25 degrees __**from the horizontal**__ and a length of 5, find it's y component."
      ],
      "metadata": {
        "id": "HeFCI6iNQ9II"
      }
    },
    {
      "cell_type": "code",
      "source": [
        "#      /|     Where r is the hypoteneuse\n",
        "#   r / | y   x is the adjacent side\n",
        "#    /  |     y is the opposite\n",
        "#   /a__|     and a is the angle we care about\n",
        "#          \n",
        "\n",
        "# This is a problem you can likely encounter in high school trignonometry, but a review is always helpful. \n",
        "\n",
        "# If we want the vertical component, we will need to do some algebra. We have a trignonometric equation we can rearrange sin(angle) = opposite / hypoteneuse where the hypoteneuse is the line we care about and the angle from the horizonal is our angle a\n",
        "\n",
        "# Our equation will end up being hypoteneuse * sin(angle) = opposite\n",
        "\n",
        "# Try it yourself: \n",
        "\n",
        "\n"
      ],
      "metadata": {
        "id": "uB0scVGIRrJ8"
      },
      "execution_count": null,
      "outputs": []
    },
    {
      "cell_type": "code",
      "source": [
        "# Find the x component of a line 40 degrees **from the vertical**  with a length of 2\n",
        "\n",
        "\n"
      ],
      "metadata": {
        "id": "K3aasaCMSyRs"
      },
      "execution_count": 1,
      "outputs": []
    }
  ]
}