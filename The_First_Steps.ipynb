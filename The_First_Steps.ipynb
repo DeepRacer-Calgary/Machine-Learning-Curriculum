{
  "nbformat": 4,
  "nbformat_minor": 0,
  "metadata": {
    "colab": {
      "name": "The First Steps.ipynb",
      "provenance": [],
      "authorship_tag": "ABX9TyPcwe9lt5+OPlTl96YeFNbQ",
      "include_colab_link": true
    },
    "kernelspec": {
      "name": "python3",
      "display_name": "Python 3"
    },
    "language_info": {
      "name": "python"
    }
  },
  "cells": [
    {
      "cell_type": "markdown",
      "metadata": {
        "id": "view-in-github",
        "colab_type": "text"
      },
      "source": [
        "<a href=\"https://colab.research.google.com/github/nickrallison/Machine_Learning_Curriculum/blob/main/The_First_Steps.ipynb\" target=\"_parent\"><img src=\"https://colab.research.google.com/assets/colab-badge.svg\" alt=\"Open In Colab\"/></a>"
      ]
    },
    {
      "cell_type": "markdown",
      "source": [
        "# Hello World! \n",
        "\n",
        "## Welcome to your first steps into the wonderful world of machine learning\n",
        "\n",
        "This may or may not be your first time hands on with machine learning but it gets easier from here, the first step is always the hardest.\n",
        "\n",
        "## Todays Goal: \n",
        "We will be using a data set of numbers to train a model to recognize a hand written character that has not been seen before by the neural network.\n",
        "\n",
        "The boilerplate code will be given to you for the most part, your job is to fill in the rest to make this work. There are many resources to help online if you get stuck.\n",
        "\n"
      ],
      "metadata": {
        "id": "96NnvqbokJuZ"
      }
    },
    {
      "cell_type": "code",
      "execution_count": 1,
      "metadata": {
        "colab": {
          "base_uri": "https://localhost:8080/"
        },
        "id": "FxY3FIftkJJa",
        "outputId": "6f88774c-ed74-4ac5-dee1-df9c54bf7b01"
      },
      "outputs": [
        {
          "output_type": "stream",
          "name": "stdout",
          "text": [
            "Looking in indexes: https://pypi.org/simple, https://us-python.pkg.dev/colab-wheels/public/simple/\n",
            "Requirement already satisfied: torch in /usr/local/lib/python3.7/dist-packages (1.11.0+cu113)\n",
            "Collecting scikit-learn==0.20.*\n",
            "  Downloading scikit_learn-0.20.4-cp37-cp37m-manylinux1_x86_64.whl (5.4 MB)\n",
            "\u001b[K     |████████████████████████████████| 5.4 MB 5.2 MB/s \n",
            "\u001b[?25hCollecting skorch\n",
            "  Downloading skorch-0.11.0-py3-none-any.whl (155 kB)\n",
            "\u001b[K     |████████████████████████████████| 155 kB 43.1 MB/s \n",
            "\u001b[?25hRequirement already satisfied: numpy>=1.8.2 in /usr/local/lib/python3.7/dist-packages (from scikit-learn==0.20.*) (1.21.6)\n",
            "Requirement already satisfied: scipy>=0.13.3 in /usr/local/lib/python3.7/dist-packages (from scikit-learn==0.20.*) (1.4.1)\n",
            "Requirement already satisfied: typing-extensions in /usr/local/lib/python3.7/dist-packages (from torch) (4.1.1)\n",
            "Requirement already satisfied: tqdm>=4.14.0 in /usr/local/lib/python3.7/dist-packages (from skorch) (4.64.0)\n",
            "Requirement already satisfied: tabulate>=0.7.7 in /usr/local/lib/python3.7/dist-packages (from skorch) (0.8.9)\n",
            "Installing collected packages: scikit-learn, skorch\n",
            "  Attempting uninstall: scikit-learn\n",
            "    Found existing installation: scikit-learn 1.0.2\n",
            "    Uninstalling scikit-learn-1.0.2:\n",
            "      Successfully uninstalled scikit-learn-1.0.2\n",
            "\u001b[31mERROR: pip's dependency resolver does not currently take into account all the packages that are installed. This behaviour is the source of the following dependency conflicts.\n",
            "yellowbrick 1.4 requires scikit-learn>=1.0.0, but you have scikit-learn 0.20.4 which is incompatible.\n",
            "imbalanced-learn 0.8.1 requires scikit-learn>=0.24, but you have scikit-learn 0.20.4 which is incompatible.\u001b[0m\n",
            "Successfully installed scikit-learn-0.20.4 skorch-0.11.0\n"
          ]
        },
        {
          "output_type": "stream",
          "name": "stderr",
          "text": [
            "/usr/local/lib/python3.7/dist-packages/sklearn/feature_extraction/image.py:167: DeprecationWarning: `np.int` is a deprecated alias for the builtin `int`. To silence this warning, use `int` by itself. Doing this will not modify any behavior and is safe. When replacing `np.int`, you may wish to use e.g. `np.int64` or `np.int32` to specify the precision. If you wish to review your current use, check the release note link for additional information.\n",
            "Deprecated in NumPy 1.20; for more details and guidance: https://numpy.org/devdocs/release/1.20.0-notes.html#deprecations\n",
            "  dtype=np.int):\n"
          ]
        }
      ],
      "source": [
        "! [ ! -z \"$COLAB_GPU\" ] && pip install torch scikit-learn==0.20.* skorch\n",
        "from sklearn.datasets import fetch_openml\n",
        "from sklearn.model_selection import train_test_split\n",
        "import numpy as np\n",
        "import matplotlib.pyplot as plt\n",
        "import tensorflow as tf\n",
        "print(\"TensorFlow version:\", tf.__version__)\n",
        "mnist = fetch_openml('mnist_784', cache=False)"
      ]
    },
    {
      "cell_type": "markdown",
      "source": [
        "Something to note about the above code if you have not used google colabs before.\n",
        "\n",
        "Any line starting with \"!\" for example, \"! [ ! -z \"$COLAB_GPU\" ] && pip install torch scikit-learn==0.20.* skorch\" will be ran in terminal as opposed to the python interpretor. The most important terminal command you can use today will be pip, a packager manager for python used to install, upgrade or downgrade packages outside of the common python library. "
      ],
      "metadata": {
        "id": "czxGH3IQl-_l"
      }
    },
    {
      "cell_type": "code",
      "source": [
        "mnist.data.shape\n",
        "X = mnist.data.astype('float32')\n",
        "y = mnist.target.astype('int64')"
      ],
      "metadata": {
        "id": "8WTWJ7HVmGGJ"
      },
      "execution_count": 8,
      "outputs": []
    },
    {
      "cell_type": "markdown",
      "source": [
        "What I have done here is created arrays for the data and the labels means that there are 70,000 images each with 784 pixels."
      ],
      "metadata": {
        "id": "gH5nIcYonq9H"
      }
    },
    {
      "cell_type": "markdown",
      "source": [
        "The next steps are up to you, **nothing is considered cheating here**, you are not being graded. \n",
        "\n",
        "What I recommend for next steps is reading the intro pages of TensorFlow documentation\n",
        "\n",
        "Here are some resources which I recommend:\n",
        "https://www.tensorflow.org/tutorials/keras/classification - This follows a very similar style to what we need to do here\n",
        "\n",
        "\n",
        "And if you can not figure out the solution, there are many many solutions to this existing on the internet, to which I recommend you go to the page: **https://www.tensorflow.org/tutorials/quickstart/beginner** which has a solution to this model using Tensorflow"
      ],
      "metadata": {
        "id": "cjRbX4OXn09p"
      }
    },
    {
      "cell_type": "code",
      "source": [
        "# -------------------------------------------------------------------------------------------\n",
        "# The next code portion to write is very likely to normalize the data from 0 - 255 as integers (The smallest and largest values an pixel may have) \n",
        "# to 0 - 1 as decimal values\n",
        "#\n",
        "# Another step you may want to take would be to split the data up into training and testing. \n",
        "# Just like in school, you train by doing homework, and then get tested on it to see if the training is working.\n",
        "# -------------------------------------------------------------------------------------------\n",
        "\n",
        "# Hints: \n",
        "#  - Python is nice because you can divide or multiply an array by a single value...\n",
        "#  - I recommend you look up the documentation for the keyword \"train_test_split\" that we imported earlier"
      ],
      "metadata": {
        "colab": {
          "base_uri": "https://localhost:8080/"
        },
        "id": "QiMyxaQVqHoX",
        "outputId": "f3ea44b1-8e06-41ed-9f41-d0c32cbd43f7"
      },
      "execution_count": 10,
      "outputs": [
        {
          "output_type": "stream",
          "name": "stdout",
          "text": [
            "0.0\n"
          ]
        }
      ]
    }
  ]
}