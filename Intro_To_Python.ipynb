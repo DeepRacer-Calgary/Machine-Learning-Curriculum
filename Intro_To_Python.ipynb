{
  "nbformat": 4,
  "nbformat_minor": 0,
  "metadata": {
    "colab": {
      "name": "Intro_To Python.ipynb",
      "provenance": [],
      "authorship_tag": "ABX9TyNupoOLslCdwhIyeHF0vm37",
      "include_colab_link": true
    },
    "kernelspec": {
      "name": "python3",
      "display_name": "Python 3"
    },
    "language_info": {
      "name": "python"
    }
  },
  "cells": [
    {
      "cell_type": "markdown",
      "metadata": {
        "id": "view-in-github",
        "colab_type": "text"
      },
      "source": [
        "<a href=\"https://colab.research.google.com/github/DeepRacer-Calgary/Machine-Learning-Curriculum/blob/main/Intro_To_Python.ipynb\" target=\"_parent\"><img src=\"https://colab.research.google.com/assets/colab-badge.svg\" alt=\"Open In Colab\"/></a>"
      ]
    },
    {
      "cell_type": "markdown",
      "source": [
        "Installing Pycharm\n",
        "Feel free to use whatever code editor you like for machine learning, they all function practically the same (VScode and Geany are good if you have used Python already). If you have not used Python or any language whatsoever, this section is for you. To begin I will ask that you install Pycharm on your computer [use this link to install the free community version of Pycharm](https://www.jetbrains.com/pycharm/download/#section=mac). All done? Great! Now we move on to your first few coding exercises."
      ],
      "metadata": {
        "id": "U34AZGONKieL"
      }
    },
    {
      "cell_type": "markdown",
      "source": [
        "A Few Python Exercises\n",
        "\n",
        "Before we can start with the machine learning process, we must first understand the basics of how to use the Python programming language. To start, we will begin with the classic exercise: Hello World.\n",
        "\n",
        "Now it is time to write your first line of code. In your code editor, write the following:"
      ],
      "metadata": {
        "id": "SS4wWbuZGsGP"
      }
    },
    {
      "cell_type": "code",
      "source": [
        "print(\"Hello World!\")"
      ],
      "metadata": {
        "id": "laCQg0C5HOTB"
      },
      "execution_count": null,
      "outputs": []
    },
    {
      "cell_type": "markdown",
      "source": [
        "Run this and you will see the words Hello World! show up in your terminal. Now let's make this a little more complicated, instead of saying \"Hello World!\", let's welcome you to the world of coding. To do this we'll need a variable. For more information on what a variable is, please return to the GitHub repository and select the tutorial link associated with variables ([repository link found here](https://github.com/DeepRacer-Calgary/Machine-Learning-Curriculum)). Now please write down the following code in your editor:"
      ],
      "metadata": {
        "id": "gS9yZMfRHSVd"
      }
    },
    {
      "cell_type": "code",
      "source": [
        "name = \"my_name\"\n",
        "print(f\"Hello {name}!\")"
      ],
      "metadata": {
        "id": "b_4mr2u3NXuQ"
      },
      "execution_count": null,
      "outputs": []
    },
    {
      "cell_type": "markdown",
      "source": [
        "What we have just done is create a variable called \"name\" and assigned it the value of the string \"my_name\" (if you aren't sure what these terms mean then please go back to the repository linked above for more information). On the second line we then printed to the terminal \"Hello my_name!\" using what is called an f-string. Typing f before the string you want to print will allow you to insert a variable name with { }. Now, try this example on your own replacing \"my_name\" with your name. Afterwards make a new line to reassign my name with a number and see what happens!"
      ],
      "metadata": {
        "id": "f5qFxhJ1NpPa"
      }
    },
    {
      "cell_type": "markdown",
      "source": [
        "Next we'll try creating a conditon for python to use. We'll make it so Python will welcome you only if it was given a string to use. Otherwise it will say \"error, no string found\". Copy down this code into your editor: "
      ],
      "metadata": {
        "id": "L5A0Q-mgQNRH"
      }
    },
    {
      "cell_type": "code",
      "source": [
        "name = \"my_name\"\n",
        "\n",
        "if type(name) == str:\n",
        "  print(f\"Hello {name}!\")\n",
        "\n",
        "else:\n",
        "  print(\"error, no string found\")"
      ],
      "metadata": {
        "id": "hP8g0SOsRgAf"
      },
      "execution_count": null,
      "outputs": []
    },
    {
      "cell_type": "markdown",
      "source": [
        "Alright, lots to unpack here. First, I want you to change the value assigned to \"name\" to your favourite number. What does it print?\n",
        "\n",
        "Now let's go through the computer's logic one step at a time. First, we give the variable a value. Next, the computer reads the data type of the variable name using the built in function type() and compares it to the data type str (short for string). If those two things match (str = str), then it will use the same print statement as before. If those two things don't match (as an example it finds int, another data type is the same as str, [int = str] ), it will move to the else statement and print \"error, no string found\".\n",
        "\n",
        "If these concepts don't make sense please go see the tutorial for conditional statements in the same repository link as before. If you're up for the challenge, try modifying this example using if statements or else if statements to print \"This is a number, not a string\" if name's type is an int (integer) or a float (decimal). "
      ],
      "metadata": {
        "id": "Q4O-FH2ISG8L"
      }
    }
  ]
}