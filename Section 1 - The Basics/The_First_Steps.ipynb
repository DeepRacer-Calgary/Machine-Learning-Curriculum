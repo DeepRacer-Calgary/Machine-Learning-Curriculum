{
  "nbformat": 4,
  "nbformat_minor": 0,
  "metadata": {
    "colab": {
      "name": "The First Steps.ipynb",
      "provenance": [],
      "collapsed_sections": [],
      "authorship_tag": "ABX9TyNFMBcF/0jYA6p/MzafCHTG",
      "include_colab_link": true
    },
    "kernelspec": {
      "name": "python3",
      "display_name": "Python 3"
    },
    "language_info": {
      "name": "python"
    }
  },
  "cells": [
    {
      "cell_type": "markdown",
      "metadata": {
        "id": "view-in-github",
        "colab_type": "text"
      },
      "source": [
        "<a href=\"https://colab.research.google.com/github/nickrallison/Machine_Learning_Curriculum/blob/main/Section 1 - The Basics/The_First_Steps.ipynb\" target=\"_parent\"><img src=\"https://colab.research.google.com/assets/colab-badge.svg\" alt=\"Open In Colab\"/></a>"
      ]
    },
    {
      "cell_type": "markdown",
      "source": [
        "# Hello World! \n",
        "\n",
        "## Welcome to your first steps into the wonderful world of machine learning\n",
        "\n",
        "This may or may not be your first time hands on with machine learning but it gets easier from here, the first step is always the hardest.\n",
        "\n",
        "## Todays Goal: \n",
        "We will be using a data set of numbers to train a model to recognize a hand written character that has not been seen before by the neural network.\n",
        "\n",
        "The boilerplate code will be given to you for the most part, your job is to fill in the rest to make this work. There are many resources to help online if you get stuck.\n",
        "\n"
      ],
      "metadata": {
        "id": "96NnvqbokJuZ"
      }
    },
    {
      "cell_type": "code",
      "execution_count": null,
      "metadata": {
        "id": "FxY3FIftkJJa"
      },
      "outputs": [],
      "source": [
        "! [ ! -z \"$COLAB_GPU\" ] && pip install torch scikit-learn==0.20.* skorch\n",
        "from sklearn.datasets import fetch_openml\n",
        "from sklearn.model_selection import train_test_split\n",
        "import numpy as np\n",
        "import matplotlib.pyplot as plt\n",
        "import tensorflow as tf\n",
        "print(\"TensorFlow version:\", tf.__version__)\n",
        "mnist = fetch_openml('mnist_784', cache=False)"
      ]
    },
    {
      "cell_type": "markdown",
      "source": [
        "Something to note about the above code if you have not used google colabs before.\n",
        "\n",
        "Any line starting with \"!\" for example, \"! [ ! -z \"$COLAB_GPU\" ] && pip install torch scikit-learn==0.20.* skorch\" will be ran in terminal as opposed to the python interpretor. The most important terminal command you can use today will be pip, a packager manager for python used to install, upgrade or downgrade packages outside of the common python library. "
      ],
      "metadata": {
        "id": "czxGH3IQl-_l"
      }
    },
    {
      "cell_type": "code",
      "source": [
        "mnist.data.shape\n",
        "X = mnist.data.astype('float32')\n",
        "y = mnist.target.astype('int64')"
      ],
      "metadata": {
        "id": "8WTWJ7HVmGGJ"
      },
      "execution_count": null,
      "outputs": []
    },
    {
      "cell_type": "markdown",
      "source": [
        "What I have done here is created arrays for the data and the labels means that there are 70,000 images each with 784 pixels."
      ],
      "metadata": {
        "id": "gH5nIcYonq9H"
      }
    },
    {
      "cell_type": "markdown",
      "source": [
        "The next steps are up to you, **nothing is considered cheating here**, you are not being graded. \n",
        "\n",
        "What I recommend for next steps is reading the intro pages of TensorFlow documentation\n",
        "\n",
        "Here are some resources which I recommend:\n",
        "https://www.tensorflow.org/tutorials/keras/classification - This follows a very similar style to what we need to do here\n",
        "\n",
        "\n",
        "And if you can not figure out the solution, there are many many solutions to this existing on the internet, to which I recommend you go to the page: **https://www.tensorflow.org/tutorials/quickstart/beginner** which has a solution to this model using Tensorflow"
      ],
      "metadata": {
        "id": "cjRbX4OXn09p"
      }
    },
    {
      "cell_type": "markdown",
      "source": [
        "# Your Turn!:"
      ],
      "metadata": {
        "id": "EynRkWOZydb6"
      }
    },
    {
      "cell_type": "code",
      "source": [
        "# -------------------------------------------------------------------------------------------\n",
        "# The next code portion to write is very likely to normalize the data from 0 - 255 as integers (The smallest and largest values an pixel may have) \n",
        "# to 0 - 1 as decimal values\n",
        "#\n",
        "# Another step you may want to take would be to split the data up into training and testing. \n",
        "# Just like in school, you train by doing homework, and then get tested on it to see if the training is working.\n",
        "# -------------------------------------------------------------------------------------------\n",
        "\n",
        "# Hints: \n",
        "#  - Python is nice because you can divide or multiply an array by a single value...\n",
        "#  - I recommend you look up the documentation for the keyword \"train_test_split\" that we imported earlier"
      ],
      "metadata": {
        "id": "QiMyxaQVqHoX"
      },
      "execution_count": null,
      "outputs": []
    }
  ]
}
